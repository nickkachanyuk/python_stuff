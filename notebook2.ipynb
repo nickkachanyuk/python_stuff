{
 "cells": [
  {
   "cell_type": "code",
   "execution_count": 201,
   "metadata": {},
   "outputs": [],
   "source": [
    "import pandas as pd\n",
    "import numpy as np\n",
    "import seaborn as sns\n",
    "import matplotlib.pyplot as plt\n",
    "from itertools import product\n",
    "%matplotlib inline\n",
    "from sklearn.model_selection import train_test_split\n",
    "from sklearn.datasets import fetch_openml\n",
    "from sklearn.exceptions import ConvergenceWarning\n"
   ]
  },
  {
   "cell_type": "markdown",
   "metadata": {},
   "source": [
    "https://www.openml.org/d/1116\n",
    "\n",
    "https://archive.ics.uci.edu/ml/datasets/Musk+(Version+2)\n",
    "\n",
    "From wikipedia: \"Musk is a class of aromatic substances commonly used as base notes in perfumery.\"\n",
    "\n",
    "Certain molecules are \"musk\", others are \"not musk\". Don't stress about the definition of the dataset too much. The vector y will be 1 or 0 for \"musk\" yes/no. The data X consists of a bunch of numerical data associated with the molecule. Fit each of a GaussianNB, SVM.svc, and MLP Classifier to the data and assess performance on some holdout test data. For each, show the confusion matrix. which performs best?"
   ]
  },
  {
   "cell_type": "code",
   "execution_count": 202,
   "metadata": {},
   "outputs": [],
   "source": [
    "X, y = fetch_openml('musk', return_X_y=True)"
   ]
  },
  {
   "cell_type": "code",
   "execution_count": 203,
   "metadata": {},
   "outputs": [
    {
     "data": {
      "text/plain": [
       "(6598, 167)"
      ]
     },
     "execution_count": 203,
     "metadata": {},
     "output_type": "execute_result"
    }
   ],
   "source": [
    "X.shape"
   ]
  },
  {
   "cell_type": "code",
   "execution_count": 204,
   "metadata": {},
   "outputs": [
    {
     "data": {
      "text/plain": [
       "array([ 101.,   46., -108.,  -60.,  -69., -117.,   49.,   38., -161.,\n",
       "         -8.,    5., -323., -220., -113., -299., -283., -307.,  -31.,\n",
       "       -106., -227.,  -42.,  -59.,  -22.,  -67.,  189.,   81.,   17.,\n",
       "        -27.,  -89.,  -67.,  105., -116.,  124., -106.,    5., -120.,\n",
       "         63., -165.,   40.,  -27.,   68.,  -44.,   98.,  -33., -314.,\n",
       "       -282., -335., -144.,  -13., -197.,   -2., -144.,  -13.,  -11.,\n",
       "       -131.,  108.,  -43.,   42., -151.,   -4.,    8., -102.,   51.,\n",
       "        -15.,  108., -135.,   59., -166.,   20.,  -20.,   23.,  -48.,\n",
       "        -68., -299., -256.,  -97., -183.,  -24., -271., -229., -177.,\n",
       "         -6.,    0., -129.,  112.,   15.,   36.,  -66.,  -54.,  -75.,\n",
       "        132., -188.,  119., -120., -312.,   23.,  -55.,  -53.,  -26.,\n",
       "        -71.,   41.,  -55.,  148., -247., -306., -308., -230., -166.,\n",
       "        -35., -205., -280., -239.,  -53.,  -10.,  -23.,   25.,   -5.,\n",
       "        163.,   61.,   59.,  -39.,   92.,   72.,  113., -107.,   80.,\n",
       "         25.,  -27.,   81., -114., -187.,   45., -118.,  -75., -182.,\n",
       "       -234.,  -19.,   12.,  -13.,  -41., -119., -149.,   70.,   17.,\n",
       "        -20., -177., -101., -116.,  -14.,  -50.,   24.,  -81., -125.,\n",
       "       -114.,  -44.,  128.,    3., -244., -308.,   52.,   -7.,   39.,\n",
       "        126.,  156.,  -50., -112.,   96.])"
      ]
     },
     "execution_count": 204,
     "metadata": {},
     "output_type": "execute_result"
    }
   ],
   "source": [
    "X[0]"
   ]
  },
  {
   "cell_type": "code",
   "execution_count": 205,
   "metadata": {},
   "outputs": [
    {
     "data": {
      "text/plain": [
       "array(['1', '1', '1', ..., '0', '0', '0'], dtype=object)"
      ]
     },
     "execution_count": 205,
     "metadata": {},
     "output_type": "execute_result"
    }
   ],
   "source": [
    "y"
   ]
  },
  {
   "cell_type": "code",
   "execution_count": 206,
   "metadata": {},
   "outputs": [
    {
     "data": {
      "text/plain": [
       "6598"
      ]
     },
     "execution_count": 206,
     "metadata": {},
     "output_type": "execute_result"
    }
   ],
   "source": [
    "len(y)"
   ]
  },
  {
   "cell_type": "code",
   "execution_count": 207,
   "metadata": {},
   "outputs": [
    {
     "data": {
      "text/plain": [
       "1017"
      ]
     },
     "execution_count": 207,
     "metadata": {},
     "output_type": "execute_result"
    }
   ],
   "source": [
    "sum(map(lambda x: int(x), y))"
   ]
  },
  {
   "cell_type": "markdown",
   "metadata": {},
   "source": [
    "Solution:"
   ]
  },
  {
   "cell_type": "code",
   "execution_count": 208,
   "metadata": {},
   "outputs": [],
   "source": [
    "Xtrain, Xtest, ytrain, ytest = train_test_split(X, y, test_size = 0.3,\n",
    "                                                random_state=1)"
   ]
  },
  {
   "cell_type": "code",
   "execution_count": 209,
   "metadata": {},
   "outputs": [],
   "source": [
    "# Models\n",
    "\n",
    "from sklearn.naive_bayes import GaussianNB\n",
    "from sklearn.svm import SVC\n",
    "from sklearn.neural_network import MLPClassifier\n",
    "\n",
    "\n",
    "model_GNB, model_SVM, model_MLP = GaussianNB(), SVC(kernel='rbf', C=1E10), MLPClassifier(hidden_layer_sizes=(200,100,50,10), max_iter=20, alpha=1e-4,\n",
    "                    solver='sgd', verbose=0, random_state=1,\n",
    "                    learning_rate_init=.5) \n"
   ]
  },
  {
   "cell_type": "code",
   "execution_count": 210,
   "metadata": {},
   "outputs": [
    {
     "name": "stdout",
     "output_type": "stream",
     "text": [
      "---------------------------------------------------------------------------------------------\n",
      "This is a GaussianNB() model. \n",
      "\n",
      " With the following matrix and accuracy score displayed: \n",
      "\n",
      "[[1542  150]\n",
      " [  65  223]]\n",
      "0.8914141414141414\n",
      "\n",
      "\n",
      "---------------------------------------------------------------------------------------------\n",
      "This is a SVC(C=10000000000.0) model. \n",
      "\n",
      " With the following matrix and accuracy score displayed: \n",
      "\n",
      "[[1692    0]\n",
      " [   0  288]]\n",
      "1.0\n",
      "\n",
      "\n",
      "---------------------------------------------------------------------------------------------\n",
      "This is a MLPClassifier(hidden_layer_sizes=(200, 100, 50, 10), learning_rate_init=0.5,\n",
      "              max_iter=20, random_state=1, solver='sgd', verbose=0) model. \n",
      "\n",
      " With the following matrix and accuracy score displayed: \n",
      "\n",
      "[[1692    0]\n",
      " [ 288    0]]\n",
      "0.8545454545454545\n",
      "\n",
      "\n"
     ]
    }
   ],
   "source": [
    "# Trying out a for loop :)\n",
    "\n",
    "model_list = [model_GNB, model_SVM, model_MLP]\n",
    "\n",
    "for x in model_list:\n",
    "    print('---------------------------------------------------------------------------------------------')\n",
    "    x.fit(Xtrain, ytrain)\n",
    "    ypred = x.predict(Xtest)\n",
    "    score = accuracy_score(ytest, ypred)\n",
    "    matrix = confusion_matrix(ytest, ypred)\n",
    "    print('This is a ' + str(x) + ' model. \\n\\n With the following matrix and accuracy score displayed: \\n\\n' + str(matrix) + '\\n' + str(score) + '\\n\\n')\n"
   ]
  },
  {
   "cell_type": "code",
   "execution_count": 211,
   "metadata": {},
   "outputs": [],
   "source": [
    "# Gaussian Naive Bayes model and performance\n",
    "\n",
    "model_GNB.fit(Xtrain, ytrain)\n",
    "ypred = model_GNB.predict(Xtest)"
   ]
  },
  {
   "cell_type": "code",
   "execution_count": 212,
   "metadata": {},
   "outputs": [
    {
     "data": {
      "text/plain": [
       "array([[1542,  150],\n",
       "       [  65,  223]], dtype=int64)"
      ]
     },
     "execution_count": 212,
     "metadata": {},
     "output_type": "execute_result"
    }
   ],
   "source": [
    "confusion_matrix(ytest, ypred)"
   ]
  },
  {
   "cell_type": "code",
   "execution_count": 213,
   "metadata": {},
   "outputs": [
    {
     "data": {
      "image/png": "[encoded data removed]",
      "text/plain": [
       "<Figure size 432x288 with 2 Axes>"
      ]
     },
     "metadata": {
      "needs_background": "light"
     },
     "output_type": "display_data"
    }
   ],
   "source": [
    "from sklearn.metrics import plot_confusion_matrix\n",
    "plot_confusion_matrix(model_GNB, Xtest, ytest,\n",
    "                                 cmap=plt.cm.Blues)\n",
    "\n",
    "plt.rcParams['figure.figsize'] = [6, 6];"
   ]
  },
  {
   "cell_type": "code",
   "execution_count": 214,
   "metadata": {},
   "outputs": [
    {
     "data": {
      "text/plain": [
       "0.8914141414141414"
      ]
     },
     "execution_count": 214,
     "metadata": {},
     "output_type": "execute_result"
    }
   ],
   "source": [
    "from sklearn.metrics import accuracy_score\n",
    "accuracy_score(ytest, ypred)"
   ]
  },
  {
   "cell_type": "code",
   "execution_count": 215,
   "metadata": {},
   "outputs": [],
   "source": [
    "# SVM model and performance\n",
    "\n",
    "model_SVM.fit(Xtrain, ytrain)\n",
    "ypred = model_SVM.predict(Xtest)"
   ]
  },
  {
   "cell_type": "code",
   "execution_count": 216,
   "metadata": {},
   "outputs": [
    {
     "data": {
      "image/png": "[encoded data removed]",
      "text/plain": [
       "<Figure size 432x432 with 2 Axes>"
      ]
     },
     "metadata": {
      "needs_background": "light"
     },
     "output_type": "display_data"
    }
   ],
   "source": [
    "from sklearn.metrics import plot_confusion_matrix\n",
    "plot_confusion_matrix(model_SVM, Xtest, ytest,\n",
    "                                 cmap=plt.cm.Blues)\n",
    "\n",
    "plt.rcParams['figure.figsize'] = [6, 6];"
   ]
  },
  {
   "cell_type": "code",
   "execution_count": 217,
   "metadata": {},
   "outputs": [
    {
     "data": {
      "text/plain": [
       "1.0"
      ]
     },
     "execution_count": 217,
     "metadata": {},
     "output_type": "execute_result"
    }
   ],
   "source": [
    "accuracy_score(ytest, ypred)"
   ]
  },
  {
   "cell_type": "code",
   "execution_count": 218,
   "metadata": {},
   "outputs": [],
   "source": [
    "# MLP model and performance\n",
    "\n",
    "model_MLP.fit(Xtrain, ytrain)\n",
    "ypred = model_MLP.predict(Xtest)"
   ]
  },
  {
   "cell_type": "code",
   "execution_count": 219,
   "metadata": {},
   "outputs": [
    {
     "data": {
      "image/png": "[encoded data removed]",
      "text/plain": [
       "<Figure size 432x432 with 2 Axes>"
      ]
     },
     "metadata": {
      "needs_background": "light"
     },
     "output_type": "display_data"
    }
   ],
   "source": [
    "from sklearn.metrics import plot_confusion_matrix\n",
    "plot_confusion_matrix(model_MLP, Xtest, ytest,\n",
    "                                 cmap=plt.cm.Blues)\n",
    "\n",
    "plt.rcParams['figure.figsize'] = [6, 6];"
   ]
  },
  {
   "cell_type": "code",
   "execution_count": 220,
   "metadata": {},
   "outputs": [
    {
     "data": {
      "text/plain": [
       "0.8545454545454545"
      ]
     },
     "execution_count": 220,
     "metadata": {},
     "output_type": "execute_result"
    }
   ],
   "source": [
    "accuracy_score(ytest, ypred)"
   ]
  },
  {
   "cell_type": "markdown",
   "metadata": {},
   "source": [
    "# Which model performs best?\n",
    "\n",
    "It seems that SVM model did the best with 100% accuracy followed by Gaussian Naive Bayes, and MLP did the worst job classifying out of the 3.\n",
    "\n",
    "Kind of concerned about how well the SVM did though (might be a case for overfitting to future data; although the 100% accuracy was for the test data which means so far so good :))"
   ]
  }
 ],
 "metadata": {
  "kernelspec": {
   "display_name": "Python 3",
   "language": "python",
   "name": "python3"
  },
  "language_info": {
   "codemirror_mode": {
    "name": "ipython",
    "version": 3
   },
   "file_extension": ".py",
   "mimetype": "text/x-python",
   "name": "python",
   "nbconvert_exporter": "python",
   "pygments_lexer": "ipython3",
   "version": "3.8.5"
  }
 },
 "nbformat": 4,
 "nbformat_minor": 4
}
